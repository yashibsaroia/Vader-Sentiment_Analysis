{
  "nbformat": 4,
  "nbformat_minor": 0,
  "metadata": {
    "colab": {
      "name": "vaderSenti.ipynb",
      "provenance": [],
      "collapsed_sections": []
    },
    "kernelspec": {
      "name": "python3",
      "display_name": "Python 3"
    },
    "language_info": {
      "name": "python"
    }
  },
  "cells": [
    {
      "cell_type": "code",
      "metadata": {
        "colab": {
          "base_uri": "https://localhost:8080/"
        },
        "id": "g8POErpMU2JF",
        "outputId": "909d1ebc-6384-47c1-a5b2-ee640fff76fd"
      },
      "source": [
        "pip install vaderSentiment\n"
      ],
      "execution_count": null,
      "outputs": [
        {
          "output_type": "stream",
          "name": "stdout",
          "text": [
            "Collecting vaderSentiment\n",
            "  Downloading vaderSentiment-3.3.2-py2.py3-none-any.whl (125 kB)\n",
            "\u001b[?25l\r\u001b[K     |██▋                             | 10 kB 8.9 MB/s eta 0:00:01\r\u001b[K     |█████▏                          | 20 kB 7.3 MB/s eta 0:00:01\r\u001b[K     |███████▉                        | 30 kB 5.1 MB/s eta 0:00:01\r\u001b[K     |██████████▍                     | 40 kB 4.9 MB/s eta 0:00:01\r\u001b[K     |█████████████                   | 51 kB 2.5 MB/s eta 0:00:01\r\u001b[K     |███████████████▋                | 61 kB 2.7 MB/s eta 0:00:01\r\u001b[K     |██████████████████▏             | 71 kB 2.7 MB/s eta 0:00:01\r\u001b[K     |████████████████████▉           | 81 kB 3.1 MB/s eta 0:00:01\r\u001b[K     |███████████████████████▍        | 92 kB 3.3 MB/s eta 0:00:01\r\u001b[K     |██████████████████████████      | 102 kB 2.7 MB/s eta 0:00:01\r\u001b[K     |████████████████████████████▋   | 112 kB 2.7 MB/s eta 0:00:01\r\u001b[K     |███████████████████████████████▏| 122 kB 2.7 MB/s eta 0:00:01\r\u001b[K     |████████████████████████████████| 125 kB 2.7 MB/s \n",
            "\u001b[?25hRequirement already satisfied: requests in /usr/local/lib/python3.7/dist-packages (from vaderSentiment) (2.23.0)\n",
            "Requirement already satisfied: certifi>=2017.4.17 in /usr/local/lib/python3.7/dist-packages (from requests->vaderSentiment) (2021.5.30)\n",
            "Requirement already satisfied: idna<3,>=2.5 in /usr/local/lib/python3.7/dist-packages (from requests->vaderSentiment) (2.10)\n",
            "Requirement already satisfied: urllib3!=1.25.0,!=1.25.1,<1.26,>=1.21.1 in /usr/local/lib/python3.7/dist-packages (from requests->vaderSentiment) (1.24.3)\n",
            "Requirement already satisfied: chardet<4,>=3.0.2 in /usr/local/lib/python3.7/dist-packages (from requests->vaderSentiment) (3.0.4)\n",
            "Installing collected packages: vaderSentiment\n",
            "Successfully installed vaderSentiment-3.3.2\n"
          ]
        }
      ]
    },
    {
      "cell_type": "code",
      "metadata": {
        "colab": {
          "base_uri": "https://localhost:8080/"
        },
        "id": "9p1Kk7YThReZ",
        "outputId": "f92f5946-7493-4d06-d55d-b06f20cde72a"
      },
      "source": [
        "pip install praw"
      ],
      "execution_count": null,
      "outputs": [
        {
          "output_type": "stream",
          "name": "stdout",
          "text": [
            "Collecting praw\n",
            "  Downloading praw-7.4.0-py3-none-any.whl (167 kB)\n",
            "\u001b[K     |████████████████████████████████| 167 kB 4.0 MB/s \n",
            "\u001b[?25hCollecting prawcore<3,>=2.1\n",
            "  Downloading prawcore-2.3.0-py3-none-any.whl (16 kB)\n",
            "Collecting update-checker>=0.18\n",
            "  Downloading update_checker-0.18.0-py3-none-any.whl (7.0 kB)\n",
            "Collecting websocket-client>=0.54.0\n",
            "  Downloading websocket_client-1.2.1-py2.py3-none-any.whl (52 kB)\n",
            "\u001b[K     |████████████████████████████████| 52 kB 1.2 MB/s \n",
            "\u001b[?25hRequirement already satisfied: requests<3.0,>=2.6.0 in /usr/local/lib/python3.7/dist-packages (from prawcore<3,>=2.1->praw) (2.23.0)\n",
            "Requirement already satisfied: chardet<4,>=3.0.2 in /usr/local/lib/python3.7/dist-packages (from requests<3.0,>=2.6.0->prawcore<3,>=2.1->praw) (3.0.4)\n",
            "Requirement already satisfied: urllib3!=1.25.0,!=1.25.1,<1.26,>=1.21.1 in /usr/local/lib/python3.7/dist-packages (from requests<3.0,>=2.6.0->prawcore<3,>=2.1->praw) (1.24.3)\n",
            "Requirement already satisfied: idna<3,>=2.5 in /usr/local/lib/python3.7/dist-packages (from requests<3.0,>=2.6.0->prawcore<3,>=2.1->praw) (2.10)\n",
            "Requirement already satisfied: certifi>=2017.4.17 in /usr/local/lib/python3.7/dist-packages (from requests<3.0,>=2.6.0->prawcore<3,>=2.1->praw) (2021.5.30)\n",
            "Installing collected packages: websocket-client, update-checker, prawcore, praw\n",
            "Successfully installed praw-7.4.0 prawcore-2.3.0 update-checker-0.18.0 websocket-client-1.2.1\n"
          ]
        }
      ]
    },
    {
      "cell_type": "code",
      "metadata": {
        "id": "zLNjJYODUxk4"
      },
      "source": [
        "# import SentimentIntensityAnalyzer class\n",
        "# from vaderSentiment.vaderSentiment module.\n",
        "from vaderSentiment.vaderSentiment import SentimentIntensityAnalyzer\n",
        " "
      ],
      "execution_count": null,
      "outputs": []
    },
    {
      "cell_type": "code",
      "metadata": {
        "id": "_je1oC8lUzGt"
      },
      "source": [
        "# function to print sentiments\n",
        "# of the sentence.\n",
        "def sentiment_scores(sentence):\n",
        " \n",
        "    # Create a SentimentIntensityAnalyzer object.\n",
        "    sid_obj = SentimentIntensityAnalyzer()\n",
        " \n",
        "    # polarity_scores method of SentimentIntensityAnalyzer\n",
        "    # object gives a sentiment dictionary.\n",
        "    # which contains pos, neg, neu, and compound scores.\n",
        "    sentiment_dict = sid_obj.polarity_scores(sentence)\n",
        "     \n",
        "    print(\"Overall sentiment dictionary is : \", sentiment_dict)\n",
        "    print(\"sentence was rated as \", sentiment_dict['neg']*100, \"% Negative\")\n",
        "    print(\"sentence was rated as \", sentiment_dict['neu']*100, \"% Neutral\")\n",
        "    print(\"sentence was rated as \", sentiment_dict['pos']*100, \"% Positive\")\n",
        " \n",
        "    print(\"Sentence Overall Rated As\", end = \" \")\n",
        " \n",
        "    # decide sentiment as positive, negative and neutral\n",
        "    if sentiment_dict['compound'] >= 0.05 :\n",
        "        print(\"Positive\")\n",
        " \n",
        "    elif sentiment_dict['compound'] <= - 0.05 :\n",
        "        print(\"Negative\")\n",
        " \n",
        "    else :\n",
        "        print(\"Neutral\")\n",
        " \n",
        " \n",
        "   \n"
      ],
      "execution_count": null,
      "outputs": []
    },
    {
      "cell_type": "code",
      "metadata": {
        "colab": {
          "base_uri": "https://localhost:8080/"
        },
        "id": "v-rDXRhHhGG6",
        "outputId": "8954aefc-0b20-45a4-c61b-8cf5fff0a92c"
      },
      "source": [
        "import praw\n",
        "r  = praw.Reddit(\n",
        "        client_id=\"\",\n",
        "        client_secret=\"\",\n",
        "        user_agent=\"\"\n",
        "    )\n",
        "    \n",
        "comment = next(r.subreddit('wallstreetbets').comments(limit=1))\n",
        "print (comment.body)"
      ],
      "execution_count": null,
      "outputs": [
        {
          "output_type": "stream",
          "name": "stderr",
          "text": [
            "It appears that you are using PRAW in an asynchronous environment.\n",
            "It is strongly recommended to use Async PRAW: https://asyncpraw.readthedocs.io.\n",
            "See https://praw.readthedocs.io/en/latest/getting_started/multiple_instances.html#discord-bots-and-asynchronous-environments for more info.\n",
            "\n"
          ]
        },
        {
          "output_type": "stream",
          "name": "stdout",
          "text": [
            "Homie got clovid\n"
          ]
        }
      ]
    },
    {
      "cell_type": "code",
      "metadata": {
        "colab": {
          "base_uri": "https://localhost:8080/"
        },
        "id": "0MNJHU9LVALj",
        "outputId": "8b99bed1-ee4e-4d8c-d356-4630c2b68492"
      },
      "source": [
        "# Driver code\n",
        "if __name__ == \"__main__\" :\n",
        " \n",
        "    print(\"\\n1st statement :\")\n",
        "    sentence = \"You quit your job for 58k, you a special kind of retard\"\n",
        " \n",
        "    # function calling\n",
        "    sentiment_scores(sentence)\n",
        " \n",
        "    print(\"Why? What happened?\")\n",
        "    sentence = \"i do want to invest but then i realise it is declining\"\n",
        "    sentiment_scores(sentence)\n",
        " \n",
        "    print(\"\\n3rd Statement :\")\n",
        "    sentence = \"IDK about ya'll but that lightening show was spectacular.\"\n",
        "    sentiment_scores(sentence)"
      ],
      "execution_count": null,
      "outputs": [
        {
          "output_type": "stream",
          "name": "stdout",
          "text": [
            "\n",
            "1st statement :\n",
            "Overall sentiment dictionary is :  {'neg': 0.211, 'neu': 0.621, 'pos': 0.168, 'compound': -0.1779}\n",
            "sentence was rated as  21.099999999999998 % Negative\n",
            "sentence was rated as  62.1 % Neutral\n",
            "sentence was rated as  16.8 % Positive\n",
            "Sentence Overall Rated As Negative\n",
            "Why? What happened?\n",
            "Overall sentiment dictionary is :  {'neg': 0.0, 'neu': 0.905, 'pos': 0.095, 'compound': 0.0387}\n",
            "sentence was rated as  0.0 % Negative\n",
            "sentence was rated as  90.5 % Neutral\n",
            "sentence was rated as  9.5 % Positive\n",
            "Sentence Overall Rated As Neutral\n",
            "\n",
            "3rd Statement :\n",
            "Overall sentiment dictionary is :  {'neg': 0.164, 'neu': 0.836, 'pos': 0.0, 'compound': -0.1447}\n",
            "sentence was rated as  16.400000000000002 % Negative\n",
            "sentence was rated as  83.6 % Neutral\n",
            "sentence was rated as  0.0 % Positive\n",
            "Sentence Overall Rated As Negative\n"
          ]
        }
      ]
    },
    {
      "cell_type": "code",
      "metadata": {
        "id": "3Z1E3fuJVBRL"
      },
      "source": [
        ""
      ],
      "execution_count": null,
      "outputs": []
    }
  ]
}